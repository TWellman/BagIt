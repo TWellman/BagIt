{
 "cells": [
  {
   "cell_type": "markdown",
   "metadata": {},
   "source": [
    "# Definition: describes BagIt (archive) metadata and file search criteria in ScienceBase \n",
    "\n",
    "#### Tristan P. Wellman<br>Science Analytics and Synthesis (SAS)<br>U.S. Geological Survey, Denver, Colorado\n",
    "#### last modified 2/17/2019\n",
    "\n",
    "#### Functions:\n",
    "1) Retrieves default archive metadata,<br>\n",
    "2) Retrieves default search criteria to select data files from ScienceBase items, and<br> \n",
    "3) Customizes defaults via kwargs (optional) \n",
    "\n",
    "#### Output: \n",
    "returns ordered dictionary of Bagit metadata"
   ]
  },
  {
   "cell_type": "code",
   "execution_count": 1,
   "metadata": {
    "collapsed": true
   },
   "outputs": [],
   "source": [
    "import collections\n",
    "import requests\n",
    "import datetime\n",
    "import uuid"
   ]
  },
  {
   "cell_type": "code",
   "execution_count": 2,
   "metadata": {
    "collapsed": true
   },
   "outputs": [],
   "source": [
    "# Definition to describe BagIt (archive) metadata \n",
    "#\n",
    "# Functions:\n",
    "# 1) Specify archive metadata, and \n",
    "# 2) Specify search criteria to select data files from ScienceBase items. \n",
    "# 3) customize defaults inputs via kwargs \n",
    "#\n",
    "# Output: returns ordered dictionary of Bagit metadata\n",
    "\n",
    "\n",
    "def archive_options(sbitem, **kwargs):\n",
    "\n",
    "    archive_func = collections.OrderedDict()\n",
    "        \n",
    "    # Archive metadata (defaults) -\n",
    "    #\n",
    "    archive_func['archive_meta'] = collections.OrderedDict([\n",
    "        ('Archive-Tag-Name', 'Archive of ScienceBase Item'),\n",
    "        ('Archive-Prcessing-Date', datetime.datetime.now().isoformat()),\n",
    "        ('Archive-Host-Machine', str(uuid.uuid1())),\n",
    "        ('Archive-Job-Number', str(uuid.uuid4())),\n",
    "        ('Source-Agency-Name', 'United States Geological Survey'),\n",
    "        ('Source-Agency-Physical-Address', 'Denver Federal Center, Building 810, Lakewood, Colorado, USA'),\n",
    "        ('Source-Agency-Group', 'Science Analytics and Synthesis (SAS), Core Science Systems'),\n",
    "        ('Source-Agency-Contact-Name', 'John Doe'),\n",
    "        ('Source-Agency-Contact-Phone', '999-999-9999'),\n",
    "        ('Source-Agency-Contact-Email', 'jdoe@usgs.gov'),\n",
    "        ('Source-Agency-Data-Source', sbitem['link']['url']),\n",
    "        ('Source-Agency-Data-Title',sbitem['title']),\n",
    "    ])\n",
    "    \n",
    "#   Search criteria - \n",
    "#\n",
    "#   Inputs: \"include\" and \"exclude\" keys with search parameters. \n",
    "#          first key (include or exclude) is performed first, \n",
    "#          second key is performed second\n",
    "# \n",
    "#   function: selects files to include and/or exclude using search parameters\n",
    "#\n",
    "#   Search Parameters\n",
    "#       1) 'ignore': do not use  \n",
    "#       2) 'all': selects all files \n",
    "#       3) custom (text, regex) search term  e.g. '\\.nc' selects files with .nc extension\n",
    "\n",
    "#   Include all item files except (exclude) those with .nc* file extensions \n",
    "#\n",
    "    archive_func['search'] = collections.OrderedDict([('include' ,'all'), ('exclude' , '\\.nc')])\n",
    "    \n",
    "    \n",
    "#   Overwrite or add key-values via **kwargs (optional) \n",
    "    if 'custom_meta' in kwargs:\n",
    "        for key in kwargs['custom_meta']:\n",
    "            if key in archive_func:\n",
    "                for sub_key in kwargs['custom_meta'][key]:\n",
    "                    #print(sub_key)\n",
    "                    archive_func[key][sub_key] = kwargs['custom_meta'][key][sub_key]\n",
    "            else:\n",
    "                archive_func[key] = kwargs['custom_meta'][key]\n",
    "            \n",
    "\n",
    "    return archive_func"
   ]
  },
  {
   "cell_type": "code",
   "execution_count": 3,
   "metadata": {
    "collapsed": true
   },
   "outputs": [],
   "source": [
    "# For Examples (below): request one Sciencebase item json \n",
    "url = 'https://www.sciencebase.gov/catalog/item/57fe9d82e4b0824b2d14f221'\n",
    "sb_item = requests.get(url + '?format=json').json()"
   ]
  },
  {
   "cell_type": "code",
   "execution_count": 4,
   "metadata": {},
   "outputs": [
    {
     "data": {
      "text/plain": [
       "OrderedDict([('archive_meta',\n",
       "              OrderedDict([('Archive-Tag-Name', 'Archive of ScienceBase Item'),\n",
       "                           ('Archive-Prcessing-Date',\n",
       "                            '2019-02-22T09:23:42.620325'),\n",
       "                           ('Archive-Host-Machine',\n",
       "                            '38352326-36be-11e9-9f0a-f45c898ede93'),\n",
       "                           ('Archive-Job-Number',\n",
       "                            'c3a235d2-439b-48dc-be11-5236a91ff21b'),\n",
       "                           ('Source-Agency-Name',\n",
       "                            'United States Geological Survey'),\n",
       "                           ('Source-Agency-Physical-Address',\n",
       "                            'Denver Federal Center, Building 810, Lakewood, Colorado, USA'),\n",
       "                           ('Source-Agency-Group',\n",
       "                            'Science Analytics and Synthesis (SAS), Core Science Systems'),\n",
       "                           ('Source-Agency-Contact-Name', 'John Doe'),\n",
       "                           ('Source-Agency-Contact-Phone', '999-999-9999'),\n",
       "                           ('Source-Agency-Contact-Email', 'jdoe@usgs.gov'),\n",
       "                           ('Source-Agency-Data-Source',\n",
       "                            'https://www.sciencebase.gov/catalog/item/57fe9d82e4b0824b2d14f221'),\n",
       "                           ('Source-Agency-Data-Title',\n",
       "                            '1995 Florida Keys Reef Visual Census, v3.3')])),\n",
       "             ('search',\n",
       "              OrderedDict([('include', 'all'), ('exclude', '\\\\.nc')]))])"
      ]
     },
     "execution_count": 4,
     "metadata": {},
     "output_type": "execute_result"
    }
   ],
   "source": [
    "# Example: get default BagIt (archive) metadata \n",
    "archive_func = archive_options(sb_item)\n",
    "archive_func"
   ]
  },
  {
   "cell_type": "code",
   "execution_count": 5,
   "metadata": {},
   "outputs": [
    {
     "data": {
      "text/plain": [
       "OrderedDict([('archive_meta',\n",
       "              OrderedDict([('Archive-Tag-Name', 'OBIS_USA Archive'),\n",
       "                           ('Archive-Prcessing-Date',\n",
       "                            '2019-02-22T09:23:42.653918'),\n",
       "                           ('Archive-Host-Machine',\n",
       "                            '383a43d0-36be-11e9-878b-f45c898ede93'),\n",
       "                           ('Archive-Job-Number',\n",
       "                            '74be35ee-e603-4971-97bb-70bbfa96fc83'),\n",
       "                           ('Source-Agency-Name',\n",
       "                            'United States Geological Survey'),\n",
       "                           ('Source-Agency-Physical-Address',\n",
       "                            'Denver Federal Center, Building 810, Lakewood, Colorado, USA'),\n",
       "                           ('Source-Agency-Group',\n",
       "                            'Science Analytics and Synthesis (SAS), Core Science Systems'),\n",
       "                           ('Source-Agency-Contact-Name', 'Abby Benson'),\n",
       "                           ('Source-Agency-Contact-Phone', '303.202.4087'),\n",
       "                           ('Source-Agency-Contact-Email', 'abenson@usgs.gov'),\n",
       "                           ('Source-Agency-Data-Source',\n",
       "                            'https://www.sciencebase.gov/catalog/item/57fe9d82e4b0824b2d14f221'),\n",
       "                           ('Source-Agency-Data-Title',\n",
       "                            '1995 Florida Keys Reef Visual Census, v3.3')])),\n",
       "             ('search',\n",
       "              OrderedDict([('include', 'all'), ('exclude', '\\\\.nc')]))])"
      ]
     },
     "execution_count": 5,
     "metadata": {},
     "output_type": "execute_result"
    }
   ],
   "source": [
    "# Example: customize default BagIt (archive) metadata for OBIS-USA collection\n",
    "\n",
    "# customize metadata record\n",
    "aux_dict = {}\n",
    "aux_dict['archive_meta'] = collections.OrderedDict([\n",
    "        ('Archive-Tag-Name', 'OBIS_USA Archive'),\n",
    "        ('Source-Agency-Contact-Name', 'Abby Benson'),\n",
    "        ('Source-Agency-Contact-Email', 'abenson@usgs.gov'),\n",
    "        ('Source-Agency-Contact-Phone', '303.202.4087'),\n",
    "    ])\n",
    "\n",
    "\n",
    "archive_func = archive_options(sb_item, custom_meta = aux_dict)\n",
    "archive_func"
   ]
  },
  {
   "cell_type": "code",
   "execution_count": null,
   "metadata": {
    "collapsed": true
   },
   "outputs": [],
   "source": [
    "# modify search criteria in a similar manner\n",
    "# uses simple include and exclude logic to search ScienceBase item\n",
    "\n",
    "#   Search Parameters\n",
    "#       1) 'ignore': do not use  \n",
    "#       2) 'all': selects all files \n",
    "#       3) custom (text, regex) search term  e.g. '\\.nc' selects files with .nc extension\n",
    "\n",
    "#   Include all item files except (exclude) those with .nc* file extensions \n",
    "#\n",
    "#    archive_func['search'] = collections.OrderedDict([('include' ,'all'), ('exclude' , '\\.nc')])"
   ]
  }
 ],
 "metadata": {
  "kernelspec": {
   "display_name": "Python [conda env:TEST]",
   "language": "python",
   "name": "conda-env-TEST-py"
  },
  "language_info": {
   "codemirror_mode": {
    "name": "ipython",
    "version": 3
   },
   "file_extension": ".py",
   "mimetype": "text/x-python",
   "name": "python",
   "nbconvert_exporter": "python",
   "pygments_lexer": "ipython3",
   "version": "3.5.5"
  }
 },
 "nbformat": 4,
 "nbformat_minor": 2
}
